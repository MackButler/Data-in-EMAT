{
 "cells": [
  {
   "cell_type": "markdown",
   "id": "29a0d4e6-8bd7-4125-95b6-fbaebc3b2ae9",
   "metadata": {},
   "source": [
    "# Systems Check\n",
    "## Mackenzie Butler\n",
    "### 8/22/2024\n",
    "In this class I want to better understand python and be able understand easily how to put data in\n",
    "1. Hello\n",
    "2. Hey\n",
    "3. Hi\n",
    "\n",
    "- words\n",
    "\n",
    "- more words\n",
    "\n",
    "__bold__\n",
    "\n",
    "_italics_\n",
    "\n",
    "___both___\n",
    "\n",
    "![](https://upload.wikimedia.org/wikipedia/en/d/dd/InvitationToHers.png?20220314073039)"
   ]
  },
  {
   "cell_type": "code",
   "execution_count": null,
   "id": "75f2836b-5352-49f1-90b3-e4c9cb7ee45c",
   "metadata": {},
   "outputs": [],
   "source": []
  }
 ],
 "metadata": {
  "kernelspec": {
   "display_name": "Python 3 (ipykernel)",
   "language": "python",
   "name": "python3"
  },
  "language_info": {
   "codemirror_mode": {
    "name": "ipython",
    "version": 3
   },
   "file_extension": ".py",
   "mimetype": "text/x-python",
   "name": "python",
   "nbconvert_exporter": "python",
   "pygments_lexer": "ipython3",
   "version": "3.12.4"
  }
 },
 "nbformat": 4,
 "nbformat_minor": 5
}
