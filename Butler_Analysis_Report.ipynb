{
 "cells": [
  {
   "cell_type": "markdown",
   "id": "97d4a6df-ef47-49cd-adfe-f67917db45e8",
   "metadata": {},
   "source": [
    "Mackenzie Butler, 11-19-24, Analysis Report"
   ]
  },
  {
   "cell_type": "markdown",
   "id": "c4203945-e444-4639-b61e-8a8863fe018e",
   "metadata": {},
   "source": [
    "I chose the Album \"Invitation to Her's\" by the band Her's and the album \"Jinx\" by the band Crumb. These are 2 of my favorite albums for different reasons. The Her's album has a more pop vibe and crumb is more of a psychedelic Jazz album which being differnt I thin would be cool to compare. These are two of my favorite bands and albums and both make such great music."
   ]
  },
  {
   "cell_type": "code",
   "execution_count": 22,
   "id": "411e48c3-0c71-49f9-a283-fb99ef80dbb8",
   "metadata": {},
   "outputs": [],
   "source": [
    "import urllib\n",
    "import json\n",
    "import pandas as pd\n",
    "import requests\n",
    "import base64\n",
    "import matplotlib.pyplot as plt\n",
    "import seaborn as sns\n",
    "import statsmodels.formula.api as smf"
   ]
  },
  {
   "cell_type": "code",
   "execution_count": 2,
   "id": "8a60406e-f7de-4518-bcba-c52442e01efc",
   "metadata": {},
   "outputs": [],
   "source": [
    "def get_session_token(SessionID, SessionKey):\n",
    "    url = 'https://accounts.spotify.com/api/token'\n",
    "    data = {'grant_type':'client_credentials'}\n",
    "    encoded_key = base64.b64encode(str(SessionID+':'+SessionKey).encode(\"ascii\"))\n",
    "    header = {'Authorization': 'Basic {}'.format(encoded_key.decode(\"ascii\"))}\n",
    "    response = requests.post(url, data = data, headers=header)\n",
    "    print(response.status_code)\n",
    "    return response.json()['access_token']"
   ]
  },
  {
   "cell_type": "code",
   "execution_count": 3,
   "id": "7ca75aaf-eb56-45ba-b89f-ed9e80a12487",
   "metadata": {},
   "outputs": [],
   "source": [
    "keys = pd.read_csv(r\"C:\\Users\\mackb\\Data in EMAT\\Spotify_Keys.txt\")"
   ]
  },
  {
   "cell_type": "code",
   "execution_count": 4,
   "id": "52736235-5409-46ee-80bb-02bc8c798c89",
   "metadata": {},
   "outputs": [
    {
     "name": "stdout",
     "output_type": "stream",
     "text": [
      "200\n"
     ]
    }
   ],
   "source": [
    "access_token = get_session_token(keys['Client_ID'].iloc[0],keys['Client_Secret'].iloc[0])"
   ]
  },
  {
   "cell_type": "code",
   "execution_count": 5,
   "id": "abca950d-027f-4f9f-be48-2c4e6af991fb",
   "metadata": {},
   "outputs": [],
   "source": [
    "t_features_ep = 'https://api.spotify.com/v1/audio-features'\n",
    "track_ep = 'https://api.spotify.com/v1/tracks'\n",
    "ab_track_ep = 'https://api.spotify.com/v1/albums/{}/tracks'"
   ]
  },
  {
   "cell_type": "code",
   "execution_count": 6,
   "id": "4e286e7b-5c00-4a3b-b5e3-166335ea40b0",
   "metadata": {},
   "outputs": [],
   "source": [
    "def api_call(endpoint_url, api_header):\n",
    "    response = requests.get(endpoint_url, headers = api_header)\n",
    "    print(response.status_code)\n",
    "    return response.json()"
   ]
  },
  {
   "cell_type": "code",
   "execution_count": 7,
   "id": "5c9a6195-4523-4bce-a67c-487a2bcedf96",
   "metadata": {},
   "outputs": [],
   "source": [
    "session_header = {'Authorization': 'Bearer {}'.format(access_token)}"
   ]
  },
  {
   "cell_type": "code",
   "execution_count": 8,
   "id": "6fe3600f-597c-4504-bd71-cb4ca94ba498",
   "metadata": {},
   "outputs": [],
   "source": [
    "h_album_id = '3w5PWzbOdhuHd2oTynfBJw'\n",
    "c_album_id = '6DxidEI7EhF8md8ev83iNY'"
   ]
  },
  {
   "cell_type": "markdown",
   "id": "9893f70a-da08-4136-bf45-122b317f0dd7",
   "metadata": {},
   "source": [
    "This is just getting all the baseline stuff to be able to use the Spotify API. H album is the Her's album Welcome to Her's and C album is the Crumb Album Jinx"
   ]
  },
  {
   "cell_type": "code",
   "execution_count": 12,
   "id": "3ad4ae33-fee0-437b-ab37-254b3b723ca7",
   "metadata": {},
   "outputs": [
    {
     "data": {
      "text/plain": [
       "'https://api.spotify.com/v1/albums/6DxidEI7EhF8md8ev83iNY/tracks'"
      ]
     },
     "execution_count": 12,
     "metadata": {},
     "output_type": "execute_result"
    }
   ],
   "source": [
    "ab_track_ep.format(h_album_id)\n",
    "ab_track_ep.format(c_album_id)"
   ]
  },
  {
   "cell_type": "code",
   "execution_count": 13,
   "id": "14fa00a1-26ef-485a-9295-cc8a4bee9893",
   "metadata": {},
   "outputs": [
    {
     "name": "stdout",
     "output_type": "stream",
     "text": [
      "200\n",
      "200\n"
     ]
    }
   ],
   "source": [
    "h_album_response = api_call(ab_track_ep.format(h_album_id), session_header)\n",
    "c_album_response = api_call(ab_track_ep.format(c_album_id), session_header)"
   ]
  },
  {
   "cell_type": "code",
   "execution_count": 14,
   "id": "b67fb108-c323-4637-b138-e8cafa95c184",
   "metadata": {},
   "outputs": [
    {
     "data": {
      "text/plain": [
       "dict_keys(['href', 'items', 'limit', 'next', 'offset', 'previous', 'total'])"
      ]
     },
     "execution_count": 14,
     "metadata": {},
     "output_type": "execute_result"
    }
   ],
   "source": [
    "h_album_response.keys()"
   ]
  },
  {
   "cell_type": "code",
   "execution_count": 15,
   "id": "b6fa28ed-3587-40ca-b5fa-0c8c0819dfe8",
   "metadata": {},
   "outputs": [],
   "source": [
    "h_album_df = pd.DataFrame(h_album_response['items'])\n",
    "c_album_df = pd.DataFrame(c_album_response['items'])"
   ]
  },
  {
   "cell_type": "code",
   "execution_count": 16,
   "id": "ee770d8c-ee1d-42e0-8a9c-6b7b236fb6c3",
   "metadata": {},
   "outputs": [],
   "source": [
    "h_track_ids = ','.join(h_album_df['id'].to_list())\n",
    "c_track_ids = ','.join(c_album_df['id'].to_list())"
   ]
  },
  {
   "cell_type": "code",
   "execution_count": 17,
   "id": "ac0398c7-987e-45dc-a7ae-5406c8d7550a",
   "metadata": {},
   "outputs": [
    {
     "name": "stdout",
     "output_type": "stream",
     "text": [
      "200\n",
      "200\n"
     ]
    }
   ],
   "source": [
    "h_track_features = api_call(t_features_ep + '?ids={}'.format(h_track_ids), session_header)\n",
    "c_track_features = api_call(t_features_ep + '?ids={}'.format(c_track_ids), session_header)"
   ]
  },
  {
   "cell_type": "code",
   "execution_count": 18,
   "id": "a7e9894e-7885-429f-a204-55c68f258b0f",
   "metadata": {},
   "outputs": [
    {
     "data": {
      "text/plain": [
       "dict_keys(['audio_features'])"
      ]
     },
     "execution_count": 18,
     "metadata": {},
     "output_type": "execute_result"
    }
   ],
   "source": [
    "h_track_features.keys()\n",
    "c_track_features.keys()"
   ]
  },
  {
   "cell_type": "code",
   "execution_count": 19,
   "id": "9c38e038-467b-462f-8ae5-b535c0f17ebe",
   "metadata": {},
   "outputs": [
    {
     "data": {
      "text/html": [
       "<div>\n",
       "<style scoped>\n",
       "    .dataframe tbody tr th:only-of-type {\n",
       "        vertical-align: middle;\n",
       "    }\n",
       "\n",
       "    .dataframe tbody tr th {\n",
       "        vertical-align: top;\n",
       "    }\n",
       "\n",
       "    .dataframe thead th {\n",
       "        text-align: right;\n",
       "    }\n",
       "</style>\n",
       "<table border=\"1\" class=\"dataframe\">\n",
       "  <thead>\n",
       "    <tr style=\"text-align: right;\">\n",
       "      <th></th>\n",
       "      <th>danceability</th>\n",
       "      <th>energy</th>\n",
       "      <th>key</th>\n",
       "      <th>loudness</th>\n",
       "      <th>mode</th>\n",
       "      <th>speechiness</th>\n",
       "      <th>acousticness</th>\n",
       "      <th>instrumentalness</th>\n",
       "      <th>liveness</th>\n",
       "      <th>valence</th>\n",
       "      <th>tempo</th>\n",
       "      <th>type</th>\n",
       "      <th>id</th>\n",
       "      <th>uri</th>\n",
       "      <th>track_href</th>\n",
       "      <th>analysis_url</th>\n",
       "      <th>duration_ms</th>\n",
       "      <th>time_signature</th>\n",
       "    </tr>\n",
       "  </thead>\n",
       "  <tbody>\n",
       "    <tr>\n",
       "      <th>0</th>\n",
       "      <td>0.588</td>\n",
       "      <td>0.855</td>\n",
       "      <td>9</td>\n",
       "      <td>-6.153</td>\n",
       "      <td>1</td>\n",
       "      <td>0.0372</td>\n",
       "      <td>0.073500</td>\n",
       "      <td>0.815</td>\n",
       "      <td>0.128</td>\n",
       "      <td>0.717</td>\n",
       "      <td>141.941</td>\n",
       "      <td>audio_features</td>\n",
       "      <td>1zFbBrZmJr1Z49HYe84dBg</td>\n",
       "      <td>spotify:track:1zFbBrZmJr1Z49HYe84dBg</td>\n",
       "      <td>https://api.spotify.com/v1/tracks/1zFbBrZmJr1Z...</td>\n",
       "      <td>https://api.spotify.com/v1/audio-analysis/1zFb...</td>\n",
       "      <td>211165</td>\n",
       "      <td>4</td>\n",
       "    </tr>\n",
       "    <tr>\n",
       "      <th>1</th>\n",
       "      <td>0.561</td>\n",
       "      <td>0.790</td>\n",
       "      <td>5</td>\n",
       "      <td>-4.938</td>\n",
       "      <td>1</td>\n",
       "      <td>0.0301</td>\n",
       "      <td>0.000053</td>\n",
       "      <td>0.825</td>\n",
       "      <td>0.257</td>\n",
       "      <td>0.712</td>\n",
       "      <td>150.046</td>\n",
       "      <td>audio_features</td>\n",
       "      <td>5GOVjC32dV7jhi23SbeyWs</td>\n",
       "      <td>spotify:track:5GOVjC32dV7jhi23SbeyWs</td>\n",
       "      <td>https://api.spotify.com/v1/tracks/5GOVjC32dV7j...</td>\n",
       "      <td>https://api.spotify.com/v1/audio-analysis/5GOV...</td>\n",
       "      <td>220377</td>\n",
       "      <td>4</td>\n",
       "    </tr>\n",
       "    <tr>\n",
       "      <th>2</th>\n",
       "      <td>0.639</td>\n",
       "      <td>0.859</td>\n",
       "      <td>4</td>\n",
       "      <td>-4.569</td>\n",
       "      <td>1</td>\n",
       "      <td>0.0302</td>\n",
       "      <td>0.002710</td>\n",
       "      <td>0.541</td>\n",
       "      <td>0.149</td>\n",
       "      <td>0.687</td>\n",
       "      <td>89.987</td>\n",
       "      <td>audio_features</td>\n",
       "      <td>7KO4XNfwEKhTbSGo3O6qX5</td>\n",
       "      <td>spotify:track:7KO4XNfwEKhTbSGo3O6qX5</td>\n",
       "      <td>https://api.spotify.com/v1/tracks/7KO4XNfwEKhT...</td>\n",
       "      <td>https://api.spotify.com/v1/audio-analysis/7KO4...</td>\n",
       "      <td>200456</td>\n",
       "      <td>4</td>\n",
       "    </tr>\n",
       "    <tr>\n",
       "      <th>3</th>\n",
       "      <td>0.547</td>\n",
       "      <td>0.559</td>\n",
       "      <td>6</td>\n",
       "      <td>-6.079</td>\n",
       "      <td>0</td>\n",
       "      <td>0.0270</td>\n",
       "      <td>0.020200</td>\n",
       "      <td>0.462</td>\n",
       "      <td>0.117</td>\n",
       "      <td>0.538</td>\n",
       "      <td>136.948</td>\n",
       "      <td>audio_features</td>\n",
       "      <td>2l7vMv0FwKb7S1OZMkJRP1</td>\n",
       "      <td>spotify:track:2l7vMv0FwKb7S1OZMkJRP1</td>\n",
       "      <td>https://api.spotify.com/v1/tracks/2l7vMv0FwKb7...</td>\n",
       "      <td>https://api.spotify.com/v1/audio-analysis/2l7v...</td>\n",
       "      <td>281321</td>\n",
       "      <td>4</td>\n",
       "    </tr>\n",
       "    <tr>\n",
       "      <th>4</th>\n",
       "      <td>0.636</td>\n",
       "      <td>0.893</td>\n",
       "      <td>5</td>\n",
       "      <td>-4.579</td>\n",
       "      <td>1</td>\n",
       "      <td>0.0482</td>\n",
       "      <td>0.001990</td>\n",
       "      <td>0.830</td>\n",
       "      <td>0.107</td>\n",
       "      <td>0.569</td>\n",
       "      <td>139.970</td>\n",
       "      <td>audio_features</td>\n",
       "      <td>7iDeRCT8iKSQGzgeqjYezp</td>\n",
       "      <td>spotify:track:7iDeRCT8iKSQGzgeqjYezp</td>\n",
       "      <td>https://api.spotify.com/v1/tracks/7iDeRCT8iKSQ...</td>\n",
       "      <td>https://api.spotify.com/v1/audio-analysis/7iDe...</td>\n",
       "      <td>268835</td>\n",
       "      <td>4</td>\n",
       "    </tr>\n",
       "  </tbody>\n",
       "</table>\n",
       "</div>"
      ],
      "text/plain": [
       "   danceability  energy  key  loudness  mode  speechiness  acousticness  \\\n",
       "0         0.588   0.855    9    -6.153     1       0.0372      0.073500   \n",
       "1         0.561   0.790    5    -4.938     1       0.0301      0.000053   \n",
       "2         0.639   0.859    4    -4.569     1       0.0302      0.002710   \n",
       "3         0.547   0.559    6    -6.079     0       0.0270      0.020200   \n",
       "4         0.636   0.893    5    -4.579     1       0.0482      0.001990   \n",
       "\n",
       "   instrumentalness  liveness  valence    tempo            type  \\\n",
       "0             0.815     0.128    0.717  141.941  audio_features   \n",
       "1             0.825     0.257    0.712  150.046  audio_features   \n",
       "2             0.541     0.149    0.687   89.987  audio_features   \n",
       "3             0.462     0.117    0.538  136.948  audio_features   \n",
       "4             0.830     0.107    0.569  139.970  audio_features   \n",
       "\n",
       "                       id                                   uri  \\\n",
       "0  1zFbBrZmJr1Z49HYe84dBg  spotify:track:1zFbBrZmJr1Z49HYe84dBg   \n",
       "1  5GOVjC32dV7jhi23SbeyWs  spotify:track:5GOVjC32dV7jhi23SbeyWs   \n",
       "2  7KO4XNfwEKhTbSGo3O6qX5  spotify:track:7KO4XNfwEKhTbSGo3O6qX5   \n",
       "3  2l7vMv0FwKb7S1OZMkJRP1  spotify:track:2l7vMv0FwKb7S1OZMkJRP1   \n",
       "4  7iDeRCT8iKSQGzgeqjYezp  spotify:track:7iDeRCT8iKSQGzgeqjYezp   \n",
       "\n",
       "                                          track_href  \\\n",
       "0  https://api.spotify.com/v1/tracks/1zFbBrZmJr1Z...   \n",
       "1  https://api.spotify.com/v1/tracks/5GOVjC32dV7j...   \n",
       "2  https://api.spotify.com/v1/tracks/7KO4XNfwEKhT...   \n",
       "3  https://api.spotify.com/v1/tracks/2l7vMv0FwKb7...   \n",
       "4  https://api.spotify.com/v1/tracks/7iDeRCT8iKSQ...   \n",
       "\n",
       "                                        analysis_url  duration_ms  \\\n",
       "0  https://api.spotify.com/v1/audio-analysis/1zFb...       211165   \n",
       "1  https://api.spotify.com/v1/audio-analysis/5GOV...       220377   \n",
       "2  https://api.spotify.com/v1/audio-analysis/7KO4...       200456   \n",
       "3  https://api.spotify.com/v1/audio-analysis/2l7v...       281321   \n",
       "4  https://api.spotify.com/v1/audio-analysis/7iDe...       268835   \n",
       "\n",
       "   time_signature  \n",
       "0               4  \n",
       "1               4  \n",
       "2               4  \n",
       "3               4  \n",
       "4               4  "
      ]
     },
     "execution_count": 19,
     "metadata": {},
     "output_type": "execute_result"
    }
   ],
   "source": [
    "h_track_df = pd.DataFrame(h_track_features['audio_features'])\n",
    "h_track_df.head()"
   ]
  },
  {
   "cell_type": "code",
   "execution_count": 20,
   "id": "5b6e2f48-d72a-4b9a-9682-dd9045ce17cd",
   "metadata": {},
   "outputs": [
    {
     "data": {
      "text/html": [
       "<div>\n",
       "<style scoped>\n",
       "    .dataframe tbody tr th:only-of-type {\n",
       "        vertical-align: middle;\n",
       "    }\n",
       "\n",
       "    .dataframe tbody tr th {\n",
       "        vertical-align: top;\n",
       "    }\n",
       "\n",
       "    .dataframe thead th {\n",
       "        text-align: right;\n",
       "    }\n",
       "</style>\n",
       "<table border=\"1\" class=\"dataframe\">\n",
       "  <thead>\n",
       "    <tr style=\"text-align: right;\">\n",
       "      <th></th>\n",
       "      <th>danceability</th>\n",
       "      <th>energy</th>\n",
       "      <th>key</th>\n",
       "      <th>loudness</th>\n",
       "      <th>mode</th>\n",
       "      <th>speechiness</th>\n",
       "      <th>acousticness</th>\n",
       "      <th>instrumentalness</th>\n",
       "      <th>liveness</th>\n",
       "      <th>valence</th>\n",
       "      <th>tempo</th>\n",
       "      <th>type</th>\n",
       "      <th>id</th>\n",
       "      <th>uri</th>\n",
       "      <th>track_href</th>\n",
       "      <th>analysis_url</th>\n",
       "      <th>duration_ms</th>\n",
       "      <th>time_signature</th>\n",
       "    </tr>\n",
       "  </thead>\n",
       "  <tbody>\n",
       "    <tr>\n",
       "      <th>0</th>\n",
       "      <td>0.635</td>\n",
       "      <td>0.385</td>\n",
       "      <td>6</td>\n",
       "      <td>-11.621</td>\n",
       "      <td>1</td>\n",
       "      <td>0.0341</td>\n",
       "      <td>0.390</td>\n",
       "      <td>0.783</td>\n",
       "      <td>0.0993</td>\n",
       "      <td>0.117</td>\n",
       "      <td>121.951</td>\n",
       "      <td>audio_features</td>\n",
       "      <td>3VwgtTh9D0CubY32jdhI5U</td>\n",
       "      <td>spotify:track:3VwgtTh9D0CubY32jdhI5U</td>\n",
       "      <td>https://api.spotify.com/v1/tracks/3VwgtTh9D0Cu...</td>\n",
       "      <td>https://api.spotify.com/v1/audio-analysis/3Vwg...</td>\n",
       "      <td>111987</td>\n",
       "      <td>4</td>\n",
       "    </tr>\n",
       "    <tr>\n",
       "      <th>1</th>\n",
       "      <td>0.580</td>\n",
       "      <td>0.797</td>\n",
       "      <td>11</td>\n",
       "      <td>-9.689</td>\n",
       "      <td>0</td>\n",
       "      <td>0.0443</td>\n",
       "      <td>0.653</td>\n",
       "      <td>0.762</td>\n",
       "      <td>0.0875</td>\n",
       "      <td>0.596</td>\n",
       "      <td>79.890</td>\n",
       "      <td>audio_features</td>\n",
       "      <td>3U3uvOHNxa3ODEiD9H6oVr</td>\n",
       "      <td>spotify:track:3U3uvOHNxa3ODEiD9H6oVr</td>\n",
       "      <td>https://api.spotify.com/v1/tracks/3U3uvOHNxa3O...</td>\n",
       "      <td>https://api.spotify.com/v1/audio-analysis/3U3u...</td>\n",
       "      <td>200280</td>\n",
       "      <td>4</td>\n",
       "    </tr>\n",
       "    <tr>\n",
       "      <th>2</th>\n",
       "      <td>0.665</td>\n",
       "      <td>0.351</td>\n",
       "      <td>2</td>\n",
       "      <td>-9.424</td>\n",
       "      <td>1</td>\n",
       "      <td>0.0276</td>\n",
       "      <td>0.516</td>\n",
       "      <td>0.819</td>\n",
       "      <td>0.1090</td>\n",
       "      <td>0.451</td>\n",
       "      <td>87.057</td>\n",
       "      <td>audio_features</td>\n",
       "      <td>0R3TWpoxAhT3HDXM7tpRzS</td>\n",
       "      <td>spotify:track:0R3TWpoxAhT3HDXM7tpRzS</td>\n",
       "      <td>https://api.spotify.com/v1/tracks/0R3TWpoxAhT3...</td>\n",
       "      <td>https://api.spotify.com/v1/audio-analysis/0R3T...</td>\n",
       "      <td>126120</td>\n",
       "      <td>4</td>\n",
       "    </tr>\n",
       "    <tr>\n",
       "      <th>3</th>\n",
       "      <td>0.713</td>\n",
       "      <td>0.529</td>\n",
       "      <td>7</td>\n",
       "      <td>-8.681</td>\n",
       "      <td>1</td>\n",
       "      <td>0.0286</td>\n",
       "      <td>0.482</td>\n",
       "      <td>0.900</td>\n",
       "      <td>0.1950</td>\n",
       "      <td>0.625</td>\n",
       "      <td>120.021</td>\n",
       "      <td>audio_features</td>\n",
       "      <td>0H2zA6m04MUsu4mX2KecNr</td>\n",
       "      <td>spotify:track:0H2zA6m04MUsu4mX2KecNr</td>\n",
       "      <td>https://api.spotify.com/v1/tracks/0H2zA6m04MUs...</td>\n",
       "      <td>https://api.spotify.com/v1/audio-analysis/0H2z...</td>\n",
       "      <td>173000</td>\n",
       "      <td>4</td>\n",
       "    </tr>\n",
       "    <tr>\n",
       "      <th>4</th>\n",
       "      <td>0.319</td>\n",
       "      <td>0.436</td>\n",
       "      <td>8</td>\n",
       "      <td>-10.003</td>\n",
       "      <td>1</td>\n",
       "      <td>0.0313</td>\n",
       "      <td>0.798</td>\n",
       "      <td>0.942</td>\n",
       "      <td>0.1260</td>\n",
       "      <td>0.306</td>\n",
       "      <td>139.135</td>\n",
       "      <td>audio_features</td>\n",
       "      <td>31T93onltAjRxJ6I8MqsHT</td>\n",
       "      <td>spotify:track:31T93onltAjRxJ6I8MqsHT</td>\n",
       "      <td>https://api.spotify.com/v1/tracks/31T93onltAjR...</td>\n",
       "      <td>https://api.spotify.com/v1/audio-analysis/31T9...</td>\n",
       "      <td>217853</td>\n",
       "      <td>4</td>\n",
       "    </tr>\n",
       "  </tbody>\n",
       "</table>\n",
       "</div>"
      ],
      "text/plain": [
       "   danceability  energy  key  loudness  mode  speechiness  acousticness  \\\n",
       "0         0.635   0.385    6   -11.621     1       0.0341         0.390   \n",
       "1         0.580   0.797   11    -9.689     0       0.0443         0.653   \n",
       "2         0.665   0.351    2    -9.424     1       0.0276         0.516   \n",
       "3         0.713   0.529    7    -8.681     1       0.0286         0.482   \n",
       "4         0.319   0.436    8   -10.003     1       0.0313         0.798   \n",
       "\n",
       "   instrumentalness  liveness  valence    tempo            type  \\\n",
       "0             0.783    0.0993    0.117  121.951  audio_features   \n",
       "1             0.762    0.0875    0.596   79.890  audio_features   \n",
       "2             0.819    0.1090    0.451   87.057  audio_features   \n",
       "3             0.900    0.1950    0.625  120.021  audio_features   \n",
       "4             0.942    0.1260    0.306  139.135  audio_features   \n",
       "\n",
       "                       id                                   uri  \\\n",
       "0  3VwgtTh9D0CubY32jdhI5U  spotify:track:3VwgtTh9D0CubY32jdhI5U   \n",
       "1  3U3uvOHNxa3ODEiD9H6oVr  spotify:track:3U3uvOHNxa3ODEiD9H6oVr   \n",
       "2  0R3TWpoxAhT3HDXM7tpRzS  spotify:track:0R3TWpoxAhT3HDXM7tpRzS   \n",
       "3  0H2zA6m04MUsu4mX2KecNr  spotify:track:0H2zA6m04MUsu4mX2KecNr   \n",
       "4  31T93onltAjRxJ6I8MqsHT  spotify:track:31T93onltAjRxJ6I8MqsHT   \n",
       "\n",
       "                                          track_href  \\\n",
       "0  https://api.spotify.com/v1/tracks/3VwgtTh9D0Cu...   \n",
       "1  https://api.spotify.com/v1/tracks/3U3uvOHNxa3O...   \n",
       "2  https://api.spotify.com/v1/tracks/0R3TWpoxAhT3...   \n",
       "3  https://api.spotify.com/v1/tracks/0H2zA6m04MUs...   \n",
       "4  https://api.spotify.com/v1/tracks/31T93onltAjR...   \n",
       "\n",
       "                                        analysis_url  duration_ms  \\\n",
       "0  https://api.spotify.com/v1/audio-analysis/3Vwg...       111987   \n",
       "1  https://api.spotify.com/v1/audio-analysis/3U3u...       200280   \n",
       "2  https://api.spotify.com/v1/audio-analysis/0R3T...       126120   \n",
       "3  https://api.spotify.com/v1/audio-analysis/0H2z...       173000   \n",
       "4  https://api.spotify.com/v1/audio-analysis/31T9...       217853   \n",
       "\n",
       "   time_signature  \n",
       "0               4  \n",
       "1               4  \n",
       "2               4  \n",
       "3               4  \n",
       "4               4  "
      ]
     },
     "execution_count": 20,
     "metadata": {},
     "output_type": "execute_result"
    }
   ],
   "source": [
    "c_track_df = pd.DataFrame(c_track_features['audio_features'])\n",
    "c_track_df.head()"
   ]
  },
  {
   "cell_type": "markdown",
   "id": "ec35abb7-8fbc-4a93-bf6f-aa4bd7941f9a",
   "metadata": {},
   "source": [
    "I got to this point so that I could see all the possible audio features I could graph and compare"
   ]
  },
  {
   "cell_type": "markdown",
   "id": "89f1ea85-a2ce-4d56-9a52-833932206e77",
   "metadata": {},
   "source": [
    "I feel the category Dancibilty would best fit Her's because they have songs that would be fun to dance to, as well as slow dance to. Energy would best fit Crumb because they have more low energy songs, but some are more up beat too."
   ]
  },
  {
   "cell_type": "code",
   "execution_count": 24,
   "id": "1b55c624-353f-411b-81bd-17f69c17987b",
   "metadata": {},
   "outputs": [
    {
     "data": {
      "image/png": "[encoded data removed]",
      "text/plain": [
       "<Figure size 640x480 with 1 Axes>"
      ]
     },
     "metadata": {},
     "output_type": "display_data"
    }
   ],
   "source": [
    "fig1, ax1 = plt.subplots()\n",
    "ax1.hist(h_track_df['danceability'])\n",
    "plt.show()"
   ]
  },
  {
   "cell_type": "markdown",
   "id": "ebbbcb2a-fb6e-475a-81ee-ec7277f3fe09",
   "metadata": {},
   "source": [
    "Most songs on the album have a high dancibilty a few two skewed off to the left, so for the most part this album has a higher dancibility"
   ]
  },
  {
   "cell_type": "code",
   "execution_count": 29,
   "id": "68844e53-50a9-4bbe-88cb-a61ded515518",
   "metadata": {},
   "outputs": [
    {
     "data": {
      "image/png": "[encoded data removed]",
      "text/plain": [
       "<Figure size 640x480 with 1 Axes>"
      ]
     },
     "metadata": {},
     "output_type": "display_data"
    }
   ],
   "source": [
    "fig2, ax2 = plt.subplots()\n",
    "ax2.hist(c_track_df['energy'])\n",
    "plt.show()"
   ]
  },
  {
   "cell_type": "markdown",
   "id": "49b6c0a7-3d90-43ad-8258-32ec4d431e36",
   "metadata": {},
   "source": [
    "Most songs have a low energy with a few being skewed farther right, so for the most part this album is low energy"
   ]
  },
  {
   "cell_type": "code",
   "execution_count": 39,
   "id": "34eb005c-ccc0-4466-8e36-548ff3bc2792",
   "metadata": {},
   "outputs": [
    {
     "data": {
      "image/png": "[encoded data removed]",
      "text/plain": [
       "<Figure size 640x480 with 1 Axes>"
      ]
     },
     "metadata": {},
     "output_type": "display_data"
    }
   ],
   "source": [
    "fig3, ax3 = plt.subplots()\n",
    "\n",
    "ax3.scatter(h_track_df['danceability'],h_track_df['energy'])\n",
    "ax3.set_xlabel(\"Danceability\")\n",
    "ax3.set_ylabel(\"Energy\")\n",
    "fig3.suptitle(\"Invitation to Her's\")\n",
    "plt.style.use('fivethirtyeight')\n",
    "\n",
    "plt.show()"
   ]
  },
  {
   "cell_type": "code",
   "execution_count": 38,
   "id": "732889cd-99dc-4a6d-bb8d-e4a06dd329a5",
   "metadata": {},
   "outputs": [
    {
     "data": {
      "image/png": "[encoded data removed]",
      "text/plain": [
       "<Figure size 640x480 with 1 Axes>"
      ]
     },
     "metadata": {},
     "output_type": "display_data"
    }
   ],
   "source": [
    "fig4, ax4 = plt.subplots()\n",
    "\n",
    "ax4.scatter(c_track_df['danceability'],c_track_df['energy'])\n",
    "ax4.set_xlabel(\"Danceability\")\n",
    "ax4.set_ylabel(\"Energy\")\n",
    "fig4.suptitle(\"Jinx\")\n",
    "plt.style.use('fivethirtyeight')\n",
    "plt.show()"
   ]
  },
  {
   "cell_type": "markdown",
   "id": "6f958504-a078-4bcc-8924-b7053f938e46",
   "metadata": {},
   "source": [
    "These Scatter plots compare the danceability and energry within each album"
   ]
  },
  {
   "cell_type": "code",
   "execution_count": 54,
   "id": "c069a06d-b71c-40c5-baaf-62bb0ecfaaed",
   "metadata": {},
   "outputs": [
    {
     "data": {
      "image/png": "[encoded data removed]",
      "text/plain": [
       "<Figure size 640x480 with 1 Axes>"
      ]
     },
     "metadata": {},
     "output_type": "display_data"
    }
   ],
   "source": [
    "fig5, ax5 = plt.subplots()\n",
    "\n",
    "h_scatter = ax5.scatter(h_track_df['danceability'], h_track_df['energy'], color = 'black', label ='Hers')\n",
    "c_scatter = ax5.scatter(c_track_df['danceability'], c_track_df['energy'], color = 'yellow', label = 'Jinx')\n",
    "ax5.set_xlabel(\"Danceability\")\n",
    "fig5.suptitle(\"Her's vs Jinx\")\n",
    "ax5.set_ylabel(\"Energy\")\n",
    "ax5.set_title('Danceability vs Energy')\n",
    "plt.style.use('fivethirtyeight')\n",
    "plt.legend(handles = [h_scatter, c_scatter])\n",
    "plt.show()"
   ]
  },
  {
   "cell_type": "markdown",
   "id": "8f926224-b74a-41a0-ae80-ca8c8f497d74",
   "metadata": {},
   "source": [
    "We can see that both Albums have a mojority of high dancibility while a couple skew left. Her's' energy tends to stay towards the higher end with few on the lower end, while Crumb's stays towards the lower end but still has some that is higher energy."
   ]
  },
  {
   "cell_type": "code",
   "execution_count": 95,
   "id": "bfccd3d0-4803-4f16-9413-b40feb733fcf",
   "metadata": {},
   "outputs": [
    {
     "data": {
      "image/png": "[encoded data removed]",
      "text/plain": [
       "<Figure size 640x480 with 1 Axes>"
      ]
     },
     "metadata": {},
     "output_type": "display_data"
    }
   ],
   "source": [
    "h_st = h_track_df['energy']\n",
    "c_st = c_track_df['energy']\n",
    "\n",
    "fig6, ax6 = plt.subplots()\n",
    "plt.style.use('default')\n",
    "ax6.boxplot([h_st, c_st])\n",
    "ax6.set_ylabel(\"Energy\")\n",
    "ax6.set_xlabel(\"Hers                                                   Jinx\")\n",
    "ax6.set_title('Energy Box Plot')\n",
    "fig6.suptitle('Hers vs Jinx')\n",
    "plt.show()"
   ]
  },
  {
   "cell_type": "code",
   "execution_count": 96,
   "id": "27c71676-9bc6-4e8a-b993-3a195b499a79",
   "metadata": {},
   "outputs": [
    {
     "data": {
      "image/png": "[encoded data removed]",
      "text/plain": [
       "<Figure size 640x480 with 1 Axes>"
      ]
     },
     "metadata": {},
     "output_type": "display_data"
    }
   ],
   "source": [
    "h_st = h_track_df['danceability']\n",
    "c_st = c_track_df['danceability']\n",
    "\n",
    "fig6, ax6 = plt.subplots()\n",
    "plt.style.use('default')\n",
    "ax6.boxplot([h_st, c_st])\n",
    "ax6.set_ylabel(\"Danceability\")\n",
    "ax6.set_xlabel(\"Hers                                                   Jinx\")\n",
    "ax6.set_title('Danceability Box Plot')\n",
    "fig6.suptitle('Hers vs Jinx')\n",
    "plt.show()"
   ]
  },
  {
   "cell_type": "markdown",
   "id": "87b20be5-38f0-42c9-8488-745725390523",
   "metadata": {},
   "source": [
    "Overall we can see a big difference between albums when it comes to energy, Her's being more high energy and Crumb being more low energy. When it comes to dancibility they are more similar with having majority higher danceability."
   ]
  },
  {
   "cell_type": "code",
   "execution_count": null,
   "id": "56e413bd-bd29-4257-a771-3519a9646564",
   "metadata": {},
   "outputs": [],
   "source": [
    "|"
   ]
  }
 ],
 "metadata": {
  "kernelspec": {
   "display_name": "Python 3 (ipykernel)",
   "language": "python",
   "name": "python3"
  },
  "language_info": {
   "codemirror_mode": {
    "name": "ipython",
    "version": 3
   },
   "file_extension": ".py",
   "mimetype": "text/x-python",
   "name": "python",
   "nbconvert_exporter": "python",
   "pygments_lexer": "ipython3",
   "version": "3.12.4"
  }
 },
 "nbformat": 4,
 "nbformat_minor": 5
}
